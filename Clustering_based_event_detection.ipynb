{
  "cells": [
    {
      "cell_type": "code",
      "execution_count": null,
      "metadata": {
        "id": "eO_WY447eIHs"
      },
      "outputs": [],
      "source": [
        "import pandas as pd \n",
        "import matplotlib.pyplot as plt\n",
        "import numpy as np\n",
        "import os\n",
        "from sklearn.cluster import KMeans\n"
      ]
    },
    {
      "cell_type": "code",
      "execution_count": null,
      "metadata": {
        "id": "UU8gAp-TIDgv"
      },
      "outputs": [],
      "source": [
        "os.getcwd()\n",
        "os.chdir('/content/drive/MyDrive/Colab Notebooks')"
      ]
    },
    {
      "cell_type": "markdown",
      "metadata": {
        "id": "74LIWbnHfomY"
      },
      "source": [
        "Import data:"
      ]
    },
    {
      "cell_type": "code",
      "execution_count": null,
      "metadata": {
        "id": "9W1-cEuqfm75"
      },
      "outputs": [],
      "source": [
        "from house1_data import *"
      ]
    },
    {
      "cell_type": "markdown",
      "metadata": {
        "id": "JUOgUb-0jZC2"
      },
      "source": [
        "Define a bunch of functions:"
      ]
    },
    {
      "cell_type": "code",
      "execution_count": null,
      "metadata": {
        "id": "bZDbhSBKjc9H"
      },
      "outputs": [],
      "source": [
        "def agg_vector(appliancesData):\n",
        "    \"\"\" Create a matrix containing the data of each appliance \"\"\"\n",
        "    appliances_mtrx=np.zeros((len(appliancesData[0]),\n",
        "                              len(appliancesData)))\n",
        "    for i in range(0,len(appliancesData)):\n",
        "        appliances_mtrx[:,i]=appliancesData[i]\n",
        "        \n",
        "    aggregate_vector = np.zeros((appliances_mtrx.shape[0],1))\n",
        "    aggregate_vector = np.sum(appliances_mtrx, axis=1) \n",
        "    return aggregate_vector \n",
        "\n",
        "\"\"\" %%%%%%%%%%%%%%%%%%%%%%%%%%%%%%%%%%%%%%%%%%%%% KMEANS ùùùùùùùùùùùùùùùùùùùùù \"\"\"\n",
        "def cluster_data_kmeans(data, n_clusters, plot):\n",
        "    kmeans = KMeans(n_clusters=n_clusters, random_state=0).fit(data.reshape(-1, 1) )\n",
        "    \n",
        "    change_indices = []\n",
        "    change_values = []\n",
        "    labels = kmeans.labels_\n",
        "    for i in range (0, len(data)-1):\n",
        "      if (labels[i]!=labels[i+1]):\n",
        "        change_indices.append(i)\n",
        "        change_values.append(data[i])\n",
        "      else:\n",
        "        pass\n",
        "    \n",
        "    change_indices = np.array(change_indices)\n",
        "    change_values = np.array(change_values)\n",
        "    \n",
        "    if (plot==True):\n",
        "        plt.plot(data)\n",
        "        plt.scatter(change_indices,change_values, color=\"red\")\n",
        "    \n",
        "    return change_indices\n",
        "#%%\n",
        "\"\"\" ////////////////////////////// MINIBATCH KMEANS :::::::::::::::::::::::::\"\"\"\n",
        "from sklearn.cluster import MiniBatchKMeans\n",
        "def cluster_data_mini_batch_kmeans(data, n_clusters, plot):\n",
        "    kmeans = MiniBatchKMeans(n_clusters=n_clusters, random_state=0).fit(data.reshape(-1, 1) )\n",
        "    \n",
        "    change_indices = []\n",
        "    change_values = []\n",
        "    labels = kmeans.labels_\n",
        "    for i in range (0, len(data)-1):\n",
        "      if (labels[i]!=labels[i+1]):\n",
        "        change_indices.append(i)\n",
        "        change_values.append(data[i])\n",
        "      else:\n",
        "        pass\n",
        "    \n",
        "    change_indices = np.array(change_indices)\n",
        "    change_values = np.array(change_values)\n",
        "    \n",
        "    if (plot==True):\n",
        "        plt.plot(data)\n",
        "        plt.scatter(change_indices,change_values, color=\"red\")\n",
        "    \n",
        "    return change_indices\n",
        "#%%\n",
        "\"\"\" ///////////////////////////////////////// MEAN SHIFT ////////////////////// \"\"\"\n",
        "from sklearn.cluster import MeanShift, estimate_bandwidth\n",
        "\n",
        "def cluster_data_meanShift(data, bandwidth, plot):\n",
        "    # bandwidth = estimate_bandwidth(data.reshape(-1,1), quantile=0.2, n_samples=500)\n",
        "    \n",
        "    ms = MeanShift(bandwidth=bandwidth, bin_seeding=True)\n",
        "    ms.fit(data.reshape(-1,1))\n",
        "    labels = ms.labels_\n",
        "    change_indices = []\n",
        "    change_values = []\n",
        "    \n",
        "    for i in range (0, len(data)-1):\n",
        "      if (labels[i]!=labels[i+1]):\n",
        "        change_indices.append(i)\n",
        "        change_values.append(data[i])\n",
        "      else:\n",
        "        pass\n",
        "    \n",
        "    change_indices = np.array(change_indices)\n",
        "    change_values = np.array(change_values)\n",
        "    \n",
        "    if (plot == True):\n",
        "        plt.plot(data)\n",
        "        plt.scatter(change_indices,change_values, color=\"red\")\n",
        "    print(np.unique(labels))\n",
        "    \n",
        "    return change_indices\n",
        "\n",
        "def find_events(X, n_clusters, plot):\n",
        "    kmeans = KMeans(n_clusters=n_clusters, random_state=0).fit(X.reshape(-1, 1) )\n",
        "    \n",
        "    change_indices = []\n",
        "    change_values = []\n",
        "    labels = kmeans.labels_\n",
        "    for i in range (0, len(X)-1):\n",
        "      if (labels[i]!=labels[i+1]):\n",
        "        change_indices.append(i)\n",
        "        change_values.append(X[i])\n",
        "      else:\n",
        "        pass\n",
        "    \n",
        "    change_indices = np.array(change_indices)\n",
        "    change_values = np.array(change_values)\n",
        "    if (plot==True):\n",
        "        plt.plot(X)\n",
        "        plt.scatter(change_indices,change_values, color=\"red\")\n",
        "    \n",
        "    return change_indices\n",
        "\n",
        "\"\"\"/////////////////////////////////////// EVALUATION METHOD ////////////////////////// \"\"\"\n",
        "\n",
        "\n",
        "def evaluate(test_indices):\n",
        "    TP=0\n",
        "    FN=0\n",
        "    for i in gt_indices:\n",
        "        if i in test_indices:\n",
        "            TP+=1\n",
        "        else:\n",
        "            FN+=1\n",
        "    \n",
        "    FP=0\n",
        "    for i in test_indices:\n",
        "        if i in gt_indices:\n",
        "            pass\n",
        "        else:\n",
        "            FP+=1\n",
        "    TN = test_indices - (TP+FN+FP)\n",
        "    return TP,FP,TN,FN\n",
        "\n",
        "def precision(tp, fp):\n",
        "    return tp/(tp+fp)\n",
        "\n",
        "def recall (tp, fn):\n",
        "    return tp/(tp+fn)\n",
        "\n",
        "def F1 (precision, recall):\n",
        "    return 2 * (precision * recall) / (precision + recall)\n"
      ]
    },
    {
      "cell_type": "markdown",
      "metadata": {
        "id": "im6u-T3Fklsk"
      },
      "source": [
        "Print loads' names:"
      ]
    },
    {
      "cell_type": "code",
      "execution_count": null,
      "metadata": {
        "colab": {
          "base_uri": "https://localhost:8080/"
        },
        "id": "NchS8eagkkwE",
        "outputId": "5dbb4638-bf93-4e3a-b0c9-0564cacbe590"
      },
      "outputs": [
        {
          "output_type": "stream",
          "name": "stdout",
          "text": [
            "['oven', 'fridge', 'dish.W', 'kitch', 'lights', 'washing.M', 'mic', 'bath gfi', 'stove']\n"
          ]
        }
      ],
      "source": [
        "app_names = redd_house1_names\n",
        "print(app_names)"
      ]
    },
    {
      "cell_type": "markdown",
      "metadata": {
        "id": "QA2af02Lk7H2"
      },
      "source": [
        "Find ground truth events for each load:"
      ]
    },
    {
      "cell_type": "code",
      "execution_count": null,
      "metadata": {
        "id": "0xZNMI3lk-zJ"
      },
      "outputs": [],
      "source": [
        "# retrieve gt data \n",
        "ov = redd_house1_appliances[0].to_numpy()\n",
        "fr = redd_house1_appliances[1].to_numpy()\n",
        "dw = redd_house1_appliances[2].to_numpy()\n",
        "kt = redd_house1_appliances[3].to_numpy()\n",
        "lights = redd_house1_appliances[4].to_numpy()\n",
        "wm = redd_house1_appliances[5].to_numpy()\n",
        "mic = redd_house1_appliances[6].to_numpy()\n",
        "bath = redd_house1_appliances[7].to_numpy()\n",
        "stove = redd_house1_appliances[8].to_numpy()\n",
        "#%%\n",
        "# filter gt data \n",
        "def median(aggregate_vector):\n",
        "    window = 15\n",
        "    s = pd.Series(aggregate_vector)\n",
        "    median_df = s.rolling(window).median()\n",
        "    return median_df.fillna(0).to_numpy()\n",
        "\n",
        "ov_filt = median(ov)\n",
        "fr_filt = median(fr)\n",
        "dw_filt = median(dw)\n",
        "# kt_filt = median(kt) add a median window parameter\n",
        "# lights_filt = median(lights)\n",
        "wm_filt = median(wm)\n",
        "mic_filt = median(mic)\n",
        "bath_filt = median(bath)\n",
        "# stove_filt = median(stove) present only one time, not sufficent for splitting\n",
        "\n",
        "\n",
        "# find events in gt\n",
        "\n",
        "ov_gt_indices = find_events(ov_filt, n_clusters=2, plot=False)\n",
        "fr_gt_indices = find_events(fr_filt, n_clusters=2, plot=False)\n",
        "dw_gt_indices = find_events(dw_filt, n_clusters=4, plot=False)\n",
        "# kt_gt_indices = find_events(kt_filt, n_clusters=2, plot=True)\n",
        "# lights_gt_indices = find_events(lights_filt, n_clusters=4, plot=True)\n",
        "wm_gt_indices = find_events(wm_filt, n_clusters=2, plot=False)\n",
        "mic_gt_indices = find_events(mic_filt, n_clusters=2, plot=False)\n",
        "bath_gt_indices = find_events(bath_filt, n_clusters=2, plot=False)\n",
        "# stove_gt_indices = find_events(stove_filt, n_clusters=2, plot=True)\n",
        "\n",
        "#%%\n",
        "# create one vector which contains all the gt events indices\n",
        "\n",
        "gt_indices = np.concatenate((ov_gt_indices, fr_gt_indices,\n",
        "                            dw_gt_indices, wm_gt_indices,\n",
        "                            mic_gt_indices, bath_gt_indices))\n",
        "\n",
        "gt_indices = np.sort(gt_indices)"
      ]
    },
    {
      "cell_type": "markdown",
      "metadata": {
        "id": "pVv78V0dnEXk"
      },
      "source": [
        "Create aggregate vector:"
      ]
    },
    {
      "cell_type": "code",
      "execution_count": null,
      "metadata": {
        "id": "Wq6DmJ0DjPf7"
      },
      "outputs": [],
      "source": [
        "agg = ov_filt + fr_filt + dw_filt + wm_filt + mic_filt + bath_filt"
      ]
    },
    {
      "cell_type": "markdown",
      "metadata": {
        "id": "z9_YI7iSncO1"
      },
      "source": [
        "K-means evaluation:"
      ]
    },
    {
      "cell_type": "code",
      "execution_count": null,
      "metadata": {
        "colab": {
          "base_uri": "https://localhost:8080/",
          "height": 282
        },
        "id": "b5CfEblgngLw",
        "outputId": "0829148e-5367-41a0-eaf0-f5266e27135d"
      },
      "outputs": [
        {
          "output_type": "execute_result",
          "data": {
            "text/plain": [
              "<matplotlib.legend.Legend at 0x7faae2c20750>"
            ]
          },
          "metadata": {},
          "execution_count": 8
        },
        {
          "output_type": "display_data",
          "data": {
            "text/plain": [
              "<Figure size 432x288 with 1 Axes>"
            ],
            "image/png": "[encoded data removed]"
          },
          "metadata": {
            "needs_background": "light"
          }
        }
      ],
      "source": [
        "n_clusters = [5,10,11,12,13,14,15,20]\n",
        "f1=[]\n",
        "TP=[]\n",
        "FP=[]\n",
        "FN=[]\n",
        "data = agg\n",
        "plot = False\n",
        "for i in n_clusters:\n",
        "    test_indices = cluster_data_kmeans(data, i, plot)\n",
        "    tp,fp,tn,fn = evaluate(test_indices)\n",
        "    x = F1(precision(tp, fp) , recall (tp, fn))\n",
        "    f1.append(x)\n",
        "    TP.append(tp)\n",
        "    FP.append(fp)\n",
        "    FN.append(fn)\n",
        "\n",
        "maxF1_kmeans = f1[np.argmax(f1)]    \n",
        "plt.plot(n_clusters,f1, label=\"F1 score\")\n",
        "plt.plot(n_clusters, np.array(TP)/len(gt_indices), label=\"TPR\")\n",
        "plt.plot(n_clusters,np.array(FP)/len(gt_indices), label=\"FPR\")\n",
        "plt.plot(n_clusters,np.array(FN)/len(gt_indices), label=\"FNR\")\n",
        "plt.legend()"
      ]
    },
    {
      "cell_type": "markdown",
      "source": [
        "Mini-batch Kmeans evalutation:"
      ],
      "metadata": {
        "id": "hwR0KJBI5loa"
      }
    },
    {
      "cell_type": "code",
      "source": [
        "n_clusters = [2,3,4,5,6,7,8]\n",
        "f1=[]\n",
        "TP=[]\n",
        "FP=[]\n",
        "FN=[]\n",
        "data = agg\n",
        "plot = False\n",
        "for i in n_clusters:\n",
        "    test_indices = cluster_data_mini_batch_kmeans(data, i, plot)\n",
        "    tp,fp,tn,fn = evaluate(test_indices)\n",
        "    x = F1(precision(tp, fp) , recall (tp, fn))\n",
        "    f1.append(x)\n",
        "    TP.append(tp)\n",
        "    FP.append(fp)\n",
        "    FN.append(fn)\n",
        "\n",
        "maxF1_kmeans = f1[np.argmax(f1)]    \n",
        "plt.plot(n_clusters,f1, label=\"F1 score\")\n",
        "plt.plot(n_clusters, np.array(TP)/len(gt_indices), label=\"TPR\")\n",
        "plt.plot(n_clusters,np.array(FP)/len(gt_indices), label=\"FPR\")\n",
        "plt.plot(n_clusters,np.array(FN)/len(gt_indices), label=\"FNR\")\n",
        "plt.legend()"
      ],
      "metadata": {
        "colab": {
          "base_uri": "https://localhost:8080/",
          "height": 282
        },
        "id": "4Oq9oa4j5rLN",
        "outputId": "909f3636-f076-42ad-d9df-181cafc9fee7"
      },
      "execution_count": null,
      "outputs": [
        {
          "output_type": "execute_result",
          "data": {
            "text/plain": [
              "<matplotlib.legend.Legend at 0x7faae198d250>"
            ]
          },
          "metadata": {},
          "execution_count": 9
        },
        {
          "output_type": "display_data",
          "data": {
            "text/plain": [
              "<Figure size 432x288 with 1 Axes>"
            ],
            "image/png": "[encoded data removed]"
          },
          "metadata": {
            "needs_background": "light"
          }
        }
      ]
    },
    {
      "cell_type": "markdown",
      "source": [
        "Mean shift evaluation:"
      ],
      "metadata": {
        "id": "R_eseh926ZiB"
      }
    },
    {
      "cell_type": "code",
      "source": [
        "data = agg\n",
        "bandwidth = [25,50,90,200]\n",
        "# bandwidth = [50,80,90,100]\n",
        "\n",
        "f1=[]\n",
        "TP=[]\n",
        "FP=[]\n",
        "FN=[]\n",
        "for i in bandwidth:\n",
        "    meanShift_indices = cluster_data_meanShift(data, i, plot=False)\n",
        "    tp,fp,tn,fn = evaluate(meanShift_indices)\n",
        "    x = F1(precision(tp, fp) , recall (tp, fn))\n",
        "    f1.append(x)\n",
        "    TP.append(tp)\n",
        "    FP.append(fp)\n",
        "    FN.append(fn)\n",
        "\n",
        "# maxF1_kmeans = f1[np.argmax(f1)] \n",
        "plt.plot(bandwidth,f1, label=\"F1 score\")\n",
        "plt.plot(bandwidth, np.array(TP)/len(gt_indices), label=\"TPR\")\n",
        "plt.plot(bandwidth,np.array(FP)/len(gt_indices), label=\"FPR\")\n",
        "plt.plot(bandwidth,np.array(FN)/len(gt_indices), label=\"FNR\")\n",
        "plt.legend()"
      ],
      "metadata": {
        "colab": {
          "base_uri": "https://localhost:8080/",
          "height": 404
        },
        "id": "M9cuC_246bCE",
        "outputId": "1cf15459-9cc6-43fc-c0b3-bc88694eecac"
      },
      "execution_count": null,
      "outputs": [
        {
          "output_type": "stream",
          "name": "stdout",
          "text": [
            "[ 0  1  2  3  4  5  6  7  8  9 10 11 12 13 14 15 16 17 18 19 20 21 22 23\n",
            " 24 25 26 27 28 29 30 31 32 33 34 35 36 37 38 39 40 41 42 43 44 45 46 47\n",
            " 48 49]\n",
            "[ 0  1  2  3  4  5  6  7  8  9 10 11 12 13 14 15 16 17 18 19 20 21 22 23\n",
            " 24 25 26 27]\n",
            "[ 0  1  2  3  4  5  6  7  8  9 10 11 12 13 14 15 16 17 18 19]\n",
            "[0 1 2 3 4 5 6]\n"
          ]
        },
        {
          "output_type": "execute_result",
          "data": {
            "text/plain": [
              "<matplotlib.legend.Legend at 0x7faae17aec10>"
            ]
          },
          "metadata": {},
          "execution_count": 10
        },
        {
          "output_type": "display_data",
          "data": {
            "text/plain": [
              "<Figure size 432x288 with 1 Axes>"
            ],
            "image/png": "[encoded data removed]"
          },
          "metadata": {
            "needs_background": "light"
          }
        }
      ]
    },
    {
      "cell_type": "markdown",
      "source": [
        "Time complexity:"
      ],
      "metadata": {
        "id": "NlH02eiB6t9Z"
      }
    },
    {
      "cell_type": "code",
      "source": [
        "import time \n",
        "data =agg\n",
        "plot= False\n",
        "n_clusters = 7\n",
        "start = time.perf_counter()\n",
        "indices = cluster_data_mini_batch_kmeans(data, n_clusters, plot=False)\n",
        "print(time.perf_counter()-start)"
      ],
      "metadata": {
        "colab": {
          "base_uri": "https://localhost:8080/"
        },
        "id": "bPpshkQ26wHN",
        "outputId": "bfe2651c-c7a5-4044-9c85-cad1177c49dd"
      },
      "execution_count": null,
      "outputs": [
        {
          "output_type": "stream",
          "name": "stdout",
          "text": [
            "0.23968814399995608\n"
          ]
        }
      ]
    },
    {
      "cell_type": "markdown",
      "source": [
        "Memory complexity:"
      ],
      "metadata": {
        "id": "jqYsix0i62W4"
      }
    },
    {
      "cell_type": "code",
      "source": [
        "#!pip install memory_profiler\n",
        "\n",
        "from memory_profiler import profile\n",
        "data =agg\n",
        "plot= False\n",
        "bandwidth = 90\n",
        "@profile\n",
        "def my_func():\n",
        "    indices = cluster_data_meanShift(data, bandwidth, plot=False)\n",
        "    return indices\n",
        "\n",
        "my_func()"
      ],
      "metadata": {
        "colab": {
          "base_uri": "https://localhost:8080/"
        },
        "id": "CpHBrAAc64wc",
        "outputId": "d564cd18-7c5a-4830-fd97-e0bcef595588"
      },
      "execution_count": null,
      "outputs": [
        {
          "output_type": "stream",
          "name": "stdout",
          "text": [
            "ERROR: Could not find file <ipython-input-14-d73cdce4d4a9>\n",
            "NOTE: %mprun can only be used on functions defined in physical files, and not in the IPython environment.\n",
            "[ 0  1  2  3  4  5  6  7  8  9 10 11 12 13 14 15 16 17 18 19]\n"
          ]
        },
        {
          "output_type": "execute_result",
          "data": {
            "text/plain": [
              "array([   282,    334,    881, ..., 744601, 744901, 745781])"
            ]
          },
          "metadata": {},
          "execution_count": 14
        }
      ]
    }
  ],
  "metadata": {
    "colab": {
      "collapsed_sections": [],
      "name": "Clustering-based event detection.ipynb",
      "provenance": [],
      "mount_file_id": "1pe3A_SjRlyX6FzSLQyfC17P-HeRBwrhr",
      "authorship_tag": "ABX9TyNVazhpRIoKw1p6tLP91VGg"
    },
    "kernelspec": {
      "display_name": "Python 3",
      "name": "python3"
    },
    "language_info": {
      "name": "python"
    }
  },
  "nbformat": 4,
  "nbformat_minor": 0
}